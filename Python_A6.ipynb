{
 "metadata": {
  "language_info": {
   "codemirror_mode": {
    "name": "ipython",
    "version": 3
   },
   "file_extension": ".py",
   "mimetype": "text/x-python",
   "name": "python",
   "nbconvert_exporter": "python",
   "pygments_lexer": "ipython3",
   "version": 3
  },
  "orig_nbformat": 2
 },
 "nbformat": 4,
 "nbformat_minor": 2,
 "cells": [
  {
   "cell_type": "markdown",
   "metadata": {},
   "source": [
    "## Introduction to Python Assigment A6:  Exploratory Data Analysis (EDA) of the Iris flower dataset.\n",
    "### Jul 09, 2021\n",
    "\n",
    "---\n",
    "\n",
    "*** Group Members: ***\n",
    "\n",
    "- **Name:** Humyra Chowdhury            \n",
    "**Z#:** 23405864\n",
    "          \n",
    "- **Name:** Weiyi Huang                 \n",
    "**Z#:**\n",
    "\n",
    "- **Name:** Santiago Monsalve-Mejia     \n",
    "**Z#:** 23502722    \n",
    "\n",
    "---\n",
    "                                         \n",
    " >**Description:** Expand and strengthen understanding of lists, tuples,  \n",
    " functions, dictionaries, and CSV file manipulation to perform       \n"
   ]
  },
  {
   "cell_type": "code",
   "execution_count": null,
   "metadata": {},
   "outputs": [],
   "source": []
  },
  {
   "cell_type": "code",
   "execution_count": null,
   "metadata": {},
   "outputs": [],
   "source": []
  }
 ]
}